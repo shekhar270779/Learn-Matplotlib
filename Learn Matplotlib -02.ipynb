{
 "cells": [
  {
   "cell_type": "code",
   "execution_count": 300,
   "metadata": {},
   "outputs": [],
   "source": [
    "import numpy as np\n",
    "import pandas as pd\n",
    "import matplotlib"
   ]
  },
  {
   "cell_type": "code",
   "execution_count": 301,
   "metadata": {},
   "outputs": [
    {
     "data": {
      "text/plain": [
       "'3.1.3'"
      ]
     },
     "execution_count": 301,
     "metadata": {},
     "output_type": "execute_result"
    }
   ],
   "source": [
    "matplotlib.__version__"
   ]
  },
  {
   "cell_type": "markdown",
   "metadata": {},
   "source": [
    "### Backends\n",
    "\n",
    "Matplotlib has multiple `backends` that handle converting Matplotlib's in-memory representation of your plot into the colorful output you can look at.\n",
    "Backends allow to use matplotlib on any system."
   ]
  },
  {
   "cell_type": "code",
   "execution_count": 342,
   "metadata": {},
   "outputs": [
    {
     "data": {
      "text/plain": [
       "'module://ipykernel.pylab.backend_inline'"
      ]
     },
     "execution_count": 342,
     "metadata": {},
     "output_type": "execute_result"
    }
   ],
   "source": [
    "matplotlib.get_backend()"
   ]
  },
  {
   "cell_type": "markdown",
   "metadata": {},
   "source": [
    "inline backend - jupyter buitin backend."
   ]
  },
  {
   "cell_type": "code",
   "execution_count": 343,
   "metadata": {},
   "outputs": [
    {
     "data": {
      "text/plain": [
       "'nbAgg'"
      ]
     },
     "execution_count": 343,
     "metadata": {},
     "output_type": "execute_result"
    }
   ],
   "source": [
    "# We can change backend as following \n",
    "matplotlib.use('nbagg')\n",
    "matplotlib.get_backend()"
   ]
  },
  {
   "cell_type": "markdown",
   "metadata": {},
   "source": [
    "* We must change backend before we import matplotlib.pyplot"
   ]
  },
  {
   "cell_type": "code",
   "execution_count": 344,
   "metadata": {},
   "outputs": [],
   "source": [
    "import matplotlib.pyplot as plt\n",
    "%matplotlib inline"
   ]
  },
  {
   "cell_type": "markdown",
   "metadata": {},
   "source": [
    "* We can also set the backend via an 'ipython magic' %matplotlib backend_name. \n",
    "For ex %matplotlib inline"
   ]
  },
  {
   "cell_type": "markdown",
   "metadata": {},
   "source": [
    "<p>In addition to setting the backend, the ipython magic also calls plt.ion(), which puts Matplotlib in 'interacitve mode'. In 'interactive mode' figures are shown as soon as they are created. The inverse is plt.ioff() in which figures are not shown until you explicitly call plt.show().\n",
    "</p>"
   ]
  },
  {
   "cell_type": "code",
   "execution_count": 305,
   "metadata": {},
   "outputs": [],
   "source": [
    "import pandas as pd"
   ]
  },
  {
   "cell_type": "code",
   "execution_count": 306,
   "metadata": {},
   "outputs": [],
   "source": [
    "players = pd.read_csv('players.csv')"
   ]
  },
  {
   "cell_type": "code",
   "execution_count": 11,
   "metadata": {},
   "outputs": [
    {
     "data": {
      "text/html": [
       "<div>\n",
       "<style scoped>\n",
       "    .dataframe tbody tr th:only-of-type {\n",
       "        vertical-align: middle;\n",
       "    }\n",
       "\n",
       "    .dataframe tbody tr th {\n",
       "        vertical-align: top;\n",
       "    }\n",
       "\n",
       "    .dataframe thead th {\n",
       "        text-align: right;\n",
       "    }\n",
       "</style>\n",
       "<table border=\"1\" class=\"dataframe\">\n",
       "  <thead>\n",
       "    <tr style=\"text-align: right;\">\n",
       "      <th></th>\n",
       "      <th>Name</th>\n",
       "      <th>Country</th>\n",
       "      <th>Matches</th>\n",
       "      <th>Bat_Avg</th>\n",
       "      <th>Centuries</th>\n",
       "      <th>Highest_Score</th>\n",
       "      <th>Runs</th>\n",
       "      <th>Ducks</th>\n",
       "    </tr>\n",
       "  </thead>\n",
       "  <tbody>\n",
       "    <tr>\n",
       "      <th>0</th>\n",
       "      <td>Bradman</td>\n",
       "      <td>Aus</td>\n",
       "      <td>52</td>\n",
       "      <td>99.94</td>\n",
       "      <td>29</td>\n",
       "      <td>334</td>\n",
       "      <td>6996</td>\n",
       "      <td>7</td>\n",
       "    </tr>\n",
       "    <tr>\n",
       "      <th>1</th>\n",
       "      <td>Sobers</td>\n",
       "      <td>WI</td>\n",
       "      <td>93</td>\n",
       "      <td>57.78</td>\n",
       "      <td>26</td>\n",
       "      <td>365</td>\n",
       "      <td>8032</td>\n",
       "      <td>12</td>\n",
       "    </tr>\n",
       "    <tr>\n",
       "      <th>2</th>\n",
       "      <td>Sangakarra</td>\n",
       "      <td>SL</td>\n",
       "      <td>134</td>\n",
       "      <td>57.40</td>\n",
       "      <td>38</td>\n",
       "      <td>319</td>\n",
       "      <td>12400</td>\n",
       "      <td>11</td>\n",
       "    </tr>\n",
       "  </tbody>\n",
       "</table>\n",
       "</div>"
      ],
      "text/plain": [
       "         Name Country  Matches  Bat_Avg  Centuries  Highest_Score   Runs  \\\n",
       "0     Bradman     Aus       52    99.94         29            334   6996   \n",
       "1      Sobers      WI       93    57.78         26            365   8032   \n",
       "2  Sangakarra      SL      134    57.40         38            319  12400   \n",
       "\n",
       "   Ducks  \n",
       "0      7  \n",
       "1     12  \n",
       "2     11  "
      ]
     },
     "execution_count": 11,
     "metadata": {},
     "output_type": "execute_result"
    }
   ],
   "source": [
    "players.head(3)"
   ]
  },
  {
   "cell_type": "code",
   "execution_count": 312,
   "metadata": {},
   "outputs": [],
   "source": [
    "%matplotlib inline\n",
    "plt.style.use('default')"
   ]
  },
  {
   "cell_type": "markdown",
   "metadata": {},
   "source": [
    "### Horizontal BarPlot\n",
    "<b>Color the bars based on data</b>"
   ]
  },
  {
   "cell_type": "code",
   "execution_count": 315,
   "metadata": {},
   "outputs": [
    {
     "data": {
      "image/png": "[encoded data removed]",
      "text/plain": [
       "<Figure size 640x480 with 1 Axes>"
      ]
     },
     "metadata": {},
     "output_type": "display_data"
    }
   ],
   "source": [
    "fig, ax = plt.subplots()\n",
    "\n",
    "bars = ax.barh('Name', 'Centuries',  data=players)\n",
    "ax.set_xlabel('Centuries')\n",
    "ax.set_title('Centuries in Test matches')\n",
    "\n",
    "for bar, cent in zip(bars, players.Centuries):\n",
    "    if cent == players.Centuries.max():\n",
    "        bar.set(edgecolor='darkred', facecolor='salmon', linewidth=3)\n",
    "\n",
    "plt.show()"
   ]
  },
  {
   "cell_type": "markdown",
   "metadata": {},
   "source": [
    "### Stacked barplot"
   ]
  },
  {
   "cell_type": "code",
   "execution_count": 316,
   "metadata": {},
   "outputs": [
    {
     "data": {
      "image/png": "[encoded data removed]",
      "text/plain": [
       "<Figure size 640x480 with 1 Axes>"
      ]
     },
     "metadata": {},
     "output_type": "display_data"
    }
   ],
   "source": [
    "# Quarterly Sales of two car models\n",
    "\n",
    "quarters = ['Q1','Q2','Q3','Q4']\n",
    "modelA = [100, 120, 130, 150]\n",
    "modelB = [60, 90, 140, 180]\n",
    "\n",
    "fig, ax = plt.subplots()\n",
    "\n",
    "ax.bar(quarters, modelA, label='A')\n",
    "ax.bar(quarters, modelB, bottom=modelA, label='B')\n",
    "\n",
    "ax.set_ylabel('No. of units sold')\n",
    "ax.set_title('Quarterly Sales of Car Models')\n",
    "ax.legend()\n",
    "\n",
    "plt.show()"
   ]
  },
  {
   "cell_type": "markdown",
   "metadata": {},
   "source": [
    "### Stacked barplot using color from colormaps\n",
    "* Matplotlib has a number of built-in colormaps accessible via matplotlib.cm.get_cmap"
   ]
  },
  {
   "cell_type": "code",
   "execution_count": 317,
   "metadata": {},
   "outputs": [],
   "source": [
    "from matplotlib import cm\n",
    "\n",
    "# get colormap and extract 4 colors\n",
    "quarter_colors = cm.get_cmap('Dark2', 4)\n",
    "\n",
    "quarters = ['Q1','Q2','Q3','Q4']\n",
    "modelA = [50, 80, 130, 190]\n",
    "modelB = [60, 90, 140, 200]"
   ]
  },
  {
   "cell_type": "code",
   "execution_count": 318,
   "metadata": {},
   "outputs": [],
   "source": [
    "# data prep\n",
    "\n",
    "# create a 2d array\n",
    "arr = np.array([modelA , modelB])\n",
    "\n",
    "# create a dictionary , index representing model names\n",
    "model_dict = {0:'Model-A', 1:'Model-B'}\n",
    "\n",
    "# find cumulative sum\n",
    "arr_cumsum = np.cumsum(arr, axis=1)\n",
    "\n",
    "# insert first element as 0\n",
    "arr_cumsum = np.insert(arr_cumsum,0,0, axis=1)"
   ]
  },
  {
   "cell_type": "code",
   "execution_count": 327,
   "metadata": {},
   "outputs": [
    {
     "data": {
      "image/png": "[encoded data removed]",
      "text/plain": [
       "<Figure size 600x400 with 1 Axes>"
      ]
     },
     "metadata": {},
     "output_type": "display_data"
    }
   ],
   "source": [
    "## barplot\n",
    "\n",
    "fig, ax = plt.subplots(figsize=(6, 4))\n",
    "\n",
    "for m in np.arange(arr.shape[0]):\n",
    "    model = model_dict[m]\n",
    "    for i in np.arange(len(arr_cumsum[m]) - 1):\n",
    "        if m==0:\n",
    "            ax.bar(model, arr[m][i], bottom=arr_cumsum[m][i], color=quarter_colors.colors[i], label='Q'+str(i+1))\n",
    "        else:\n",
    "            ax.bar(model, arr[m][i], bottom=arr_cumsum[m][i], color=quarter_colors.colors[i])\n",
    "        \n",
    "\n",
    "ax.set_title('Quarterly Sales of no. of units of Car models')\n",
    "ax.set_ylabel('No. of Units sold')\n",
    "ax.legend(loc=(1.0, 0.72))\n",
    "plt.show()"
   ]
  },
  {
   "cell_type": "markdown",
   "metadata": {},
   "source": [
    "### Style \n"
   ]
  },
  {
   "cell_type": "code",
   "execution_count": 328,
   "metadata": {},
   "outputs": [],
   "source": [
    "plt.style.use('dark_background')"
   ]
  },
  {
   "cell_type": "code",
   "execution_count": 329,
   "metadata": {},
   "outputs": [],
   "source": [
    "sachin = pd.read_excel('./data/sachin.xlsx')"
   ]
  },
  {
   "cell_type": "code",
   "execution_count": 330,
   "metadata": {},
   "outputs": [
    {
     "data": {
      "text/html": [
       "<div>\n",
       "<style scoped>\n",
       "    .dataframe tbody tr th:only-of-type {\n",
       "        vertical-align: middle;\n",
       "    }\n",
       "\n",
       "    .dataframe tbody tr th {\n",
       "        vertical-align: top;\n",
       "    }\n",
       "\n",
       "    .dataframe thead th {\n",
       "        text-align: right;\n",
       "    }\n",
       "</style>\n",
       "<table border=\"1\" class=\"dataframe\">\n",
       "  <thead>\n",
       "    <tr style=\"text-align: right;\">\n",
       "      <th></th>\n",
       "      <th>Score</th>\n",
       "      <th>Against</th>\n",
       "      <th>Format</th>\n",
       "      <th>Ground</th>\n",
       "      <th>Date</th>\n",
       "    </tr>\n",
       "  </thead>\n",
       "  <tbody>\n",
       "    <tr>\n",
       "      <th>0</th>\n",
       "      <td>119*</td>\n",
       "      <td>England</td>\n",
       "      <td>Test</td>\n",
       "      <td>Manchester</td>\n",
       "      <td>1990-09-08 00:00:00</td>\n",
       "    </tr>\n",
       "    <tr>\n",
       "      <th>1</th>\n",
       "      <td>148*</td>\n",
       "      <td>Australia</td>\n",
       "      <td>Test</td>\n",
       "      <td>Sydney</td>\n",
       "      <td>1992-02-01 00:00:00</td>\n",
       "    </tr>\n",
       "    <tr>\n",
       "      <th>2</th>\n",
       "      <td>114</td>\n",
       "      <td>Australia</td>\n",
       "      <td>Test</td>\n",
       "      <td>Perth</td>\n",
       "      <td>1992-01-02 00:00:00</td>\n",
       "    </tr>\n",
       "  </tbody>\n",
       "</table>\n",
       "</div>"
      ],
      "text/plain": [
       "  Score    Against Format      Ground                 Date\n",
       "0  119*    England   Test  Manchester  1990-09-08 00:00:00\n",
       "1  148*  Australia   Test      Sydney  1992-02-01 00:00:00\n",
       "2   114  Australia   Test       Perth  1992-01-02 00:00:00"
      ]
     },
     "execution_count": 330,
     "metadata": {},
     "output_type": "execute_result"
    }
   ],
   "source": [
    "sachin.head(3)"
   ]
  },
  {
   "cell_type": "code",
   "execution_count": 331,
   "metadata": {},
   "outputs": [
    {
     "data": {
      "text/plain": [
       "Score      object\n",
       "Against    object\n",
       "Format     object\n",
       "Ground     object\n",
       "Date       object\n",
       "dtype: object"
      ]
     },
     "execution_count": 331,
     "metadata": {},
     "output_type": "execute_result"
    }
   ],
   "source": [
    "sachin.dtypes"
   ]
  },
  {
   "cell_type": "code",
   "execution_count": 332,
   "metadata": {},
   "outputs": [],
   "source": [
    "# Add a column NOt_Out, it is True when score has astrik\n",
    "sachin['Not_Out'] = sachin.Score.str.contains(pat='*', regex=False)==True"
   ]
  },
  {
   "cell_type": "code",
   "execution_count": 333,
   "metadata": {},
   "outputs": [],
   "source": [
    "# remoce astrik from score \n",
    "sachin.loc[sachin.Not_Out, ['Score']] = sachin.Score[sachin.Not_Out].str.replace('*','',regex=False)"
   ]
  },
  {
   "cell_type": "code",
   "execution_count": 334,
   "metadata": {},
   "outputs": [],
   "source": [
    "# convert score as int type\n",
    "sachin['Score'] = sachin.Score.astype('int')"
   ]
  },
  {
   "cell_type": "code",
   "execution_count": 335,
   "metadata": {},
   "outputs": [
    {
     "data": {
      "text/plain": [
       "Score       int32\n",
       "Against    object\n",
       "Format     object\n",
       "Ground     object\n",
       "Date       object\n",
       "Not_Out      bool\n",
       "dtype: object"
      ]
     },
     "execution_count": 335,
     "metadata": {},
     "output_type": "execute_result"
    }
   ],
   "source": [
    "# Check datatypes \n",
    "sachin.dtypes"
   ]
  },
  {
   "cell_type": "code",
   "execution_count": 336,
   "metadata": {},
   "outputs": [
    {
     "data": {
      "text/html": [
       "<div>\n",
       "<style scoped>\n",
       "    .dataframe tbody tr th:only-of-type {\n",
       "        vertical-align: middle;\n",
       "    }\n",
       "\n",
       "    .dataframe tbody tr th {\n",
       "        vertical-align: top;\n",
       "    }\n",
       "\n",
       "    .dataframe thead th {\n",
       "        text-align: right;\n",
       "    }\n",
       "</style>\n",
       "<table border=\"1\" class=\"dataframe\">\n",
       "  <thead>\n",
       "    <tr style=\"text-align: right;\">\n",
       "      <th></th>\n",
       "      <th>Score</th>\n",
       "      <th>Against</th>\n",
       "      <th>Format</th>\n",
       "      <th>Ground</th>\n",
       "      <th>Date</th>\n",
       "      <th>Not_Out</th>\n",
       "    </tr>\n",
       "  </thead>\n",
       "  <tbody>\n",
       "    <tr>\n",
       "      <th>0</th>\n",
       "      <td>119</td>\n",
       "      <td>England</td>\n",
       "      <td>Test</td>\n",
       "      <td>Manchester</td>\n",
       "      <td>1990-09-08 00:00:00</td>\n",
       "      <td>True</td>\n",
       "    </tr>\n",
       "    <tr>\n",
       "      <th>1</th>\n",
       "      <td>148</td>\n",
       "      <td>Australia</td>\n",
       "      <td>Test</td>\n",
       "      <td>Sydney</td>\n",
       "      <td>1992-02-01 00:00:00</td>\n",
       "      <td>True</td>\n",
       "    </tr>\n",
       "    <tr>\n",
       "      <th>2</th>\n",
       "      <td>114</td>\n",
       "      <td>Australia</td>\n",
       "      <td>Test</td>\n",
       "      <td>Perth</td>\n",
       "      <td>1992-01-02 00:00:00</td>\n",
       "      <td>False</td>\n",
       "    </tr>\n",
       "  </tbody>\n",
       "</table>\n",
       "</div>"
      ],
      "text/plain": [
       "   Score    Against Format      Ground                 Date  Not_Out\n",
       "0    119    England   Test  Manchester  1990-09-08 00:00:00     True\n",
       "1    148  Australia   Test      Sydney  1992-02-01 00:00:00     True\n",
       "2    114  Australia   Test       Perth  1992-01-02 00:00:00    False"
      ]
     },
     "execution_count": 336,
     "metadata": {},
     "output_type": "execute_result"
    }
   ],
   "source": [
    "sachin.head(3)"
   ]
  },
  {
   "cell_type": "code",
   "execution_count": 337,
   "metadata": {},
   "outputs": [],
   "source": [
    "# Data prep\n",
    "\n",
    "cent_bycount = sachin.groupby(['Against', 'Format'])['Score'].\\\n",
    "                        apply(lambda x : len(x)).\\\n",
    "                        reset_index().\\\n",
    "                        rename(columns={'Score':'Centuries'})\n",
    "\n",
    "odi_cent = cent_bycount.loc[cent_bycount.Format=='ODI',['Against', 'Centuries']]\n",
    "test_cent = cent_bycount.loc[cent_bycount.Format=='Test',['Against', 'Centuries']]\n",
    "\n",
    "odi_cent.set_index('Against', inplace=True)\n",
    "test_cent.set_index('Against', inplace=True)"
   ]
  },
  {
   "cell_type": "code",
   "execution_count": 338,
   "metadata": {},
   "outputs": [
    {
     "data": {
      "text/html": [
       "<div>\n",
       "<style scoped>\n",
       "    .dataframe tbody tr th:only-of-type {\n",
       "        vertical-align: middle;\n",
       "    }\n",
       "\n",
       "    .dataframe tbody tr th {\n",
       "        vertical-align: top;\n",
       "    }\n",
       "\n",
       "    .dataframe thead th {\n",
       "        text-align: right;\n",
       "    }\n",
       "</style>\n",
       "<table border=\"1\" class=\"dataframe\">\n",
       "  <thead>\n",
       "    <tr style=\"text-align: right;\">\n",
       "      <th></th>\n",
       "      <th>Centuries</th>\n",
       "    </tr>\n",
       "    <tr>\n",
       "      <th>Against</th>\n",
       "      <th></th>\n",
       "    </tr>\n",
       "  </thead>\n",
       "  <tbody>\n",
       "    <tr>\n",
       "      <th>Australia</th>\n",
       "      <td>9</td>\n",
       "    </tr>\n",
       "    <tr>\n",
       "      <th>Bangladesh</th>\n",
       "      <td>1</td>\n",
       "    </tr>\n",
       "    <tr>\n",
       "      <th>England</th>\n",
       "      <td>2</td>\n",
       "    </tr>\n",
       "  </tbody>\n",
       "</table>\n",
       "</div>"
      ],
      "text/plain": [
       "            Centuries\n",
       "Against              \n",
       "Australia           9\n",
       "Bangladesh          1\n",
       "England             2"
      ]
     },
     "execution_count": 338,
     "metadata": {},
     "output_type": "execute_result"
    }
   ],
   "source": [
    "# look at odi_cent\n",
    "odi_cent.head(3)"
   ]
  },
  {
   "cell_type": "code",
   "execution_count": 339,
   "metadata": {},
   "outputs": [
    {
     "data": {
      "image/png": "[encoded data removed]",
      "text/plain": [
       "<Figure size 640x480 with 1 Axes>"
      ]
     },
     "metadata": {},
     "output_type": "display_data"
    }
   ],
   "source": [
    "## ODI Centuries\n",
    "\n",
    "fig, ax = plt.subplots()\n",
    "indx_count = np.arange(len(odi_cent.index))\n",
    "\n",
    "odibars = ax.bar(indx_count, 'Centuries', data = odi_cent)\n",
    "\n",
    "ax.set_ylabel('Centuries')\n",
    "ax.set_xticks(indx_count)\n",
    "ax.set_xticklabels(odi_cent.index, rotation=90)\n",
    "ax.set_title('Centuries Scored by Sachin in ODIs')\n",
    "plt.show()"
   ]
  },
  {
   "cell_type": "markdown",
   "metadata": {},
   "source": [
    "### Change Style\n",
    "                  "
   ]
  },
  {
   "cell_type": "code",
   "execution_count": 340,
   "metadata": {},
   "outputs": [],
   "source": [
    "plt.style.use('ggplot')"
   ]
  },
  {
   "cell_type": "code",
   "execution_count": 341,
   "metadata": {},
   "outputs": [
    {
     "data": {
      "image/png": "[encoded data removed]",
      "text/plain": [
       "<Figure size 640x480 with 1 Axes>"
      ]
     },
     "metadata": {},
     "output_type": "display_data"
    }
   ],
   "source": [
    "## Test Centuries\n",
    "\n",
    "fig, ax = plt.subplots()\n",
    "indx_count = np.arange(len(test_cent.index))\n",
    "\n",
    "testbars = ax.bar(indx_count, 'Centuries', data = test_cent)\n",
    "\n",
    "ax.set_ylabel('Centuries')\n",
    "ax.set_xticks(indx_count)\n",
    "ax.set_xticklabels(test_cent.index, rotation=90)\n",
    "ax.set_title('Centuries Scored by Sachin in Test matches')\n",
    "plt.show()"
   ]
  },
  {
   "cell_type": "code",
   "execution_count": null,
   "metadata": {},
   "outputs": [],
   "source": []
  }
 ],
 "metadata": {
  "kernelspec": {
   "display_name": "Python3_6",
   "language": "python",
   "name": "test_env_3"
  },
  "language_info": {
   "codemirror_mode": {
    "name": "ipython",
    "version": 3
   },
   "file_extension": ".py",
   "mimetype": "text/x-python",
   "name": "python",
   "nbconvert_exporter": "python",
   "pygments_lexer": "ipython3",
   "version": "3.6.10"
  }
 },
 "nbformat": 4,
 "nbformat_minor": 4
}
