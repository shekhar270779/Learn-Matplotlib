{
 "cells": [
  {
   "cell_type": "markdown",
   "metadata": {},
   "source": [
    "### MatplotLib"
   ]
  },
  {
   "cell_type": "markdown",
   "metadata": {},
   "source": [
    "* Data Visualization is the representation of data in a graph or chart or other visual format\n",
    "* Visual represenation of data makes it easier to identify patterns, trends \n",
    "* Visual representation grabs our attention \n",
    "* Python offers many libraries for visualization like Matplotlib, Seaborn, Plotly, Bokeh"
   ]
  },
  {
   "cell_type": "markdown",
   "metadata": {},
   "source": [
    "`Matplotlib` is a comprehensive library for creating static, animated, and interactive visualizations in Python.\n",
    "The most used module of `Matplotib` is `Pyplot` which provides an interface like MATLAB but instead, it uses Python and it is open source."
   ]
  },
  {
   "cell_type": "markdown",
   "metadata": {},
   "source": [
    "There are two styles in which `Matplotlib` can be used.\n",
    "* **MATLAB Style** : \n",
    "    * Matplotlib was originally written as a Python alternative for MATLAB users, and much of its syntax reflects that fact. \n",
    "    * The MATLAB-style tools are contained in the pyplot (plt) interface.\n",
    "    * It is important to note MATLAB-style interface is stateful: it keeps track of the “current” figure and axes, which is  where all plt commands are applied. "
   ]
  },
  {
   "cell_type": "markdown",
   "metadata": {},
   "source": [
    "* **OBJECT-ORIENTED Style** :\n",
    "    Rather than depending on some notion of an “active” figure or axes, in the object-oriented interface the plotting functions are methods of explicit Figure and Axes objects"
   ]
  },
  {
   "cell_type": "markdown",
   "metadata": {},
   "source": [
    "**Understanding terms**\n",
    "* **Figure:** It is the overall window/page that everything is drawn on.\n",
    "* **Axes:** The axes is effectively the area that we plot data on and any ticks/labels/etc associated with it.\n",
    "* **Axis:** These are the number-line-like objects. They take care of setting the graph limits and generating\n",
    "the ticks (the marks on the axis) and ticklabels (strings labeling)\n",
    "* **Artist:** Everything we see on the figure is an artist"
   ]
  },
  {
   "cell_type": "markdown",
   "metadata": {},
   "source": [
    "![Python_PlotFigure.png](https://www.ntu.edu.sg/home/ehchua/programming/webprogramming/images/Python_PlotFigure.png)\n",
    "<div style=\"font-size: 12px\", align=\"center\">\n",
    "    Figure 1. General location of elements in a Matplotlib chart. \n",
    "</div >"
   ]
  },
  {
   "cell_type": "code",
   "execution_count": 1,
   "metadata": {},
   "outputs": [],
   "source": [
    "import numpy as np\n",
    "import matplotlib.pyplot as plt"
   ]
  },
  {
   "cell_type": "code",
   "execution_count": 2,
   "metadata": {},
   "outputs": [],
   "source": [
    "import pandas as pd"
   ]
  },
  {
   "cell_type": "code",
   "execution_count": 5,
   "metadata": {},
   "outputs": [],
   "source": [
    "## Read data\n",
    "df  = pd.read_excel('./data/Metropolitan_Data.xlsx')"
   ]
  },
  {
   "cell_type": "code",
   "execution_count": 6,
   "metadata": {},
   "outputs": [
    {
     "data": {
      "text/html": [
       "<div>\n",
       "<style scoped>\n",
       "    .dataframe tbody tr th:only-of-type {\n",
       "        vertical-align: middle;\n",
       "    }\n",
       "\n",
       "    .dataframe tbody tr th {\n",
       "        vertical-align: top;\n",
       "    }\n",
       "\n",
       "    .dataframe thead th {\n",
       "        text-align: right;\n",
       "    }\n",
       "</style>\n",
       "<table border=\"1\" class=\"dataframe\">\n",
       "  <thead>\n",
       "    <tr style=\"text-align: right;\">\n",
       "      <th></th>\n",
       "      <th>land_area</th>\n",
       "      <th>percent_city</th>\n",
       "      <th>percent_senior</th>\n",
       "      <th>physicians</th>\n",
       "      <th>hospital_beds</th>\n",
       "      <th>graduates</th>\n",
       "      <th>work_force</th>\n",
       "      <th>income</th>\n",
       "      <th>region</th>\n",
       "      <th>crime_rate</th>\n",
       "    </tr>\n",
       "  </thead>\n",
       "  <tbody>\n",
       "    <tr>\n",
       "      <th>0</th>\n",
       "      <td>1384</td>\n",
       "      <td>78.1</td>\n",
       "      <td>12.3</td>\n",
       "      <td>25627</td>\n",
       "      <td>69678</td>\n",
       "      <td>50.1</td>\n",
       "      <td>4083.9</td>\n",
       "      <td>72100</td>\n",
       "      <td>1</td>\n",
       "      <td>75.554916</td>\n",
       "    </tr>\n",
       "    <tr>\n",
       "      <th>1</th>\n",
       "      <td>3719</td>\n",
       "      <td>43.9</td>\n",
       "      <td>9.4</td>\n",
       "      <td>13326</td>\n",
       "      <td>43292</td>\n",
       "      <td>53.9</td>\n",
       "      <td>3305.9</td>\n",
       "      <td>54542</td>\n",
       "      <td>2</td>\n",
       "      <td>56.029927</td>\n",
       "    </tr>\n",
       "    <tr>\n",
       "      <th>2</th>\n",
       "      <td>3553</td>\n",
       "      <td>37.4</td>\n",
       "      <td>10.7</td>\n",
       "      <td>9724</td>\n",
       "      <td>33731</td>\n",
       "      <td>50.6</td>\n",
       "      <td>2066.3</td>\n",
       "      <td>33216</td>\n",
       "      <td>1</td>\n",
       "      <td>41.322904</td>\n",
       "    </tr>\n",
       "  </tbody>\n",
       "</table>\n",
       "</div>"
      ],
      "text/plain": [
       "   land_area  percent_city  percent_senior  physicians  hospital_beds  \\\n",
       "0       1384          78.1            12.3       25627          69678   \n",
       "1       3719          43.9             9.4       13326          43292   \n",
       "2       3553          37.4            10.7        9724          33731   \n",
       "\n",
       "   graduates  work_force  income  region  crime_rate  \n",
       "0       50.1      4083.9   72100       1   75.554916  \n",
       "1       53.9      3305.9   54542       2   56.029927  \n",
       "2       50.6      2066.3   33216       1   41.322904  "
      ]
     },
     "execution_count": 6,
     "metadata": {},
     "output_type": "execute_result"
    }
   ],
   "source": [
    "## Glimpse at data\n",
    "df.head(3)"
   ]
  },
  {
   "cell_type": "code",
   "execution_count": 7,
   "metadata": {},
   "outputs": [
    {
     "data": {
      "text/plain": [
       "(99, 10)"
      ]
     },
     "execution_count": 7,
     "metadata": {},
     "output_type": "execute_result"
    }
   ],
   "source": [
    "## shape\n",
    "df.shape"
   ]
  },
  {
   "cell_type": "code",
   "execution_count": 10,
   "metadata": {},
   "outputs": [
    {
     "data": {
      "text/plain": [
       "land_area         0\n",
       "percent_city      0\n",
       "percent_senior    0\n",
       "physicians        0\n",
       "hospital_beds     0\n",
       "graduates         0\n",
       "work_force        0\n",
       "income            0\n",
       "region            0\n",
       "crime_rate        0\n",
       "dtype: int64"
      ]
     },
     "execution_count": 10,
     "metadata": {},
     "output_type": "execute_result"
    }
   ],
   "source": [
    "## check of nulls\n",
    "df.isna().sum()"
   ]
  },
  {
   "cell_type": "code",
   "execution_count": 30,
   "metadata": {},
   "outputs": [],
   "source": [
    "df['region']=df['region'].astype('category')"
   ]
  },
  {
   "cell_type": "code",
   "execution_count": 31,
   "metadata": {},
   "outputs": [
    {
     "data": {
      "text/plain": [
       "land_area            int64\n",
       "percent_city       float64\n",
       "percent_senior     float64\n",
       "physicians           int64\n",
       "hospital_beds        int64\n",
       "graduates          float64\n",
       "work_force         float64\n",
       "income               int64\n",
       "region            category\n",
       "crime_rate         float64\n",
       "dtype: object"
      ]
     },
     "execution_count": 31,
     "metadata": {},
     "output_type": "execute_result"
    }
   ],
   "source": [
    "## describe\n",
    "df.dtypes"
   ]
  },
  {
   "cell_type": "markdown",
   "metadata": {},
   "source": [
    "### Scatter plot"
   ]
  },
  {
   "cell_type": "markdown",
   "metadata": {},
   "source": [
    "- A scatter plot  uses dots to represent data points \n",
    "- Scatter plots are used to observe relationships between variables."
   ]
  },
  {
   "cell_type": "code",
   "execution_count": 22,
   "metadata": {},
   "outputs": [
    {
     "data": {
      "image/png": "[encoded data removed]",
      "text/plain": [
       "<Figure size 432x288 with 1 Axes>"
      ]
     },
     "metadata": {
      "needs_background": "light"
     },
     "output_type": "display_data"
    }
   ],
   "source": [
    "# Matlab Style\n",
    "\n",
    "# Here we are creating a scatter plot between crime rate and percent senior variables\n",
    "\n",
    "plt.scatter(x='percent_senior', y='crime_rate', data=df)\n",
    "\n",
    "plt.title('Plot of Percent Senior vs Crime Rate') # Adding a title to the plot\n",
    "\n",
    "plt.xlabel(\"Percent Senior\") # Adding the label for the horizontal axis\n",
    "\n",
    "plt.ylabel(\"Crime Rate\") # Adding the label for the vertical axis\n",
    "\n",
    "plt.show()\n"
   ]
  },
  {
   "cell_type": "code",
   "execution_count": 23,
   "metadata": {},
   "outputs": [
    {
     "data": {
      "image/png": "[encoded data removed]",
      "text/plain": [
       "<Figure size 432x288 with 1 Axes>"
      ]
     },
     "metadata": {
      "needs_background": "light"
     },
     "output_type": "display_data"
    }
   ],
   "source": [
    "## Object Oriented Style\n",
    "\n",
    "fig, ax = plt.subplots()\n",
    "\n",
    "ax.scatter('percent_senior', 'crime_rate', data=df)\n",
    "ax.set_xlabel(\"Percent Senior\")\n",
    "ax.set_ylabel(\"Crime Rate\")\n",
    "ax.set_title('Plot of Percent Senior vs Crime Rate')\n",
    "plt.show()"
   ]
  },
  {
   "cell_type": "code",
   "execution_count": 42,
   "metadata": {},
   "outputs": [
    {
     "data": {
      "image/png": "[encoded data removed]",
      "text/plain": [
       "<Figure size 432x288 with 1 Axes>"
      ]
     },
     "metadata": {
      "needs_background": "light"
     },
     "output_type": "display_data"
    }
   ],
   "source": [
    "## Setting colors for different Regions\n",
    "colors = {1:'red', 2:'blue', 3:'black', 4:'green'}\n",
    "\n",
    "fig, ax = plt.subplots()\n",
    "ax.scatter('percent_senior', 'crime_rate', data=df, c=df['region'].map(colors))\n",
    "ax.set_xlabel(\"Percent Senior\")\n",
    "ax.set_ylabel(\"Crime Rate\")\n",
    "ax.set_title('Plot of Percent Senior vs Crime Rate')\n",
    "plt.show()"
   ]
  },
  {
   "cell_type": "markdown",
   "metadata": {},
   "source": [
    "### Lineplot"
   ]
  },
  {
   "cell_type": "code",
   "execution_count": 51,
   "metadata": {},
   "outputs": [
    {
     "data": {
      "image/png": "[encoded data removed]",
      "text/plain": [
       "<Figure size 432x288 with 1 Axes>"
      ]
     },
     "metadata": {
      "needs_background": "light"
     },
     "output_type": "display_data"
    }
   ],
   "source": [
    "# Matlab Style \n",
    "\n",
    "plt.plot('work_force', 'income', marker='o', linestyle='--', data=df)\n",
    "\n",
    "plt.xlabel('Work Force')\n",
    "plt.ylabel('Income')\n",
    "plt.title('Workforce Vs Income')\n",
    "plt.show()"
   ]
  },
  {
   "cell_type": "code",
   "execution_count": 52,
   "metadata": {},
   "outputs": [
    {
     "data": {
      "image/png": "[encoded data removed]",
      "text/plain": [
       "<Figure size 432x288 with 1 Axes>"
      ]
     },
     "metadata": {
      "needs_background": "light"
     },
     "output_type": "display_data"
    }
   ],
   "source": [
    "## Object Oriented Style\n",
    "\n",
    "fig, ax = plt.subplots()\n",
    "\n",
    "ax.plot('work_force', 'income', linestyle='--', color='blue', data=df)\n",
    "ax.scatter('work_force', 'income', marker='o', color='black', data=df)\n",
    "ax.set_xlabel('Work Force')\n",
    "ax.set_ylabel('Income')\n",
    "ax.set_title('Workforce Vs Income')\n",
    "plt.show()"
   ]
  },
  {
   "cell_type": "code",
   "execution_count": 64,
   "metadata": {},
   "outputs": [
    {
     "data": {
      "image/png": "[encoded data removed]",
      "text/plain": [
       "<Figure size 576x432 with 2 Axes>"
      ]
     },
     "metadata": {
      "needs_background": "light"
     },
     "output_type": "display_data"
    }
   ],
   "source": [
    "## Subplots next to each other\n",
    "\n",
    "fig, ax = plt.subplots(nrows=1, ncols=2, figsize=(8,6))\n",
    "\n",
    "ax[0].scatter('work_force', 'income',  data=df)\n",
    "ax[0].set_xlabel('WorkForce')\n",
    "ax[0].set_ylabel('Income')\n",
    "\n",
    "ax[1].scatter('hospital_beds', 'physicians',  data=df)\n",
    "ax[1].set_xlabel('Hospital Beds')\n",
    "ax[1].set_ylabel('Physicians')\n",
    "ax[1].yaxis.set_label_position('right')\n",
    "ax[1].yaxis.tick_right()\n",
    "\n",
    "\n",
    "plt.show()"
   ]
  },
  {
   "cell_type": "code",
   "execution_count": 76,
   "metadata": {},
   "outputs": [
    {
     "data": {
      "image/png": "[encoded data removed]",
      "text/plain": [
       "<Figure size 432x288 with 1 Axes>"
      ]
     },
     "metadata": {
      "needs_background": "light"
     },
     "output_type": "display_data"
    }
   ],
   "source": [
    "# Legends Workforce Vs Income of Region 1 and 2\n",
    "\n",
    "fig, ax = plt.subplots()\n",
    "\n",
    "ax.scatter('work_force', 'income', color='r', label='Region-1',  data=df[df.region==1])\n",
    "ax.scatter('work_force', 'income', color='b', label='Region-2',  data=df[df.region==2])\n",
    "\n",
    "ax.set_xlabel('Workforce')\n",
    "ax.set_ylabel('Income')\n",
    "ax.legend()\n",
    "plt.show()\n"
   ]
  },
  {
   "cell_type": "code",
   "execution_count": 79,
   "metadata": {},
   "outputs": [
    {
     "data": {
      "text/plain": [
       "<matplotlib.axes._subplots.AxesSubplot at 0x20db6a6c0b8>"
      ]
     },
     "execution_count": 79,
     "metadata": {},
     "output_type": "execute_result"
    },
    {
     "data": {
      "image/png": "[encoded data removed]",
      "text/plain": [
       "<Figure size 432x288 with 1 Axes>"
      ]
     },
     "metadata": {
      "needs_background": "light"
     },
     "output_type": "display_data"
    }
   ],
   "source": [
    "## Barplot\n",
    "df.region.value_counts().plot(kind='bar')"
   ]
  },
  {
   "cell_type": "code",
   "execution_count": 108,
   "metadata": {},
   "outputs": [
    {
     "data": {
      "text/html": [
       "<div>\n",
       "<style scoped>\n",
       "    .dataframe tbody tr th:only-of-type {\n",
       "        vertical-align: middle;\n",
       "    }\n",
       "\n",
       "    .dataframe tbody tr th {\n",
       "        vertical-align: top;\n",
       "    }\n",
       "\n",
       "    .dataframe thead th {\n",
       "        text-align: right;\n",
       "    }\n",
       "</style>\n",
       "<table border=\"1\" class=\"dataframe\">\n",
       "  <thead>\n",
       "    <tr style=\"text-align: right;\">\n",
       "      <th></th>\n",
       "      <th>hospital_beds</th>\n",
       "    </tr>\n",
       "    <tr>\n",
       "      <th>region</th>\n",
       "      <th></th>\n",
       "    </tr>\n",
       "  </thead>\n",
       "  <tbody>\n",
       "    <tr>\n",
       "      <th>1</th>\n",
       "      <td>202752</td>\n",
       "    </tr>\n",
       "    <tr>\n",
       "      <th>2</th>\n",
       "      <td>179307</td>\n",
       "    </tr>\n",
       "    <tr>\n",
       "      <th>3</th>\n",
       "      <td>178660</td>\n",
       "    </tr>\n",
       "    <tr>\n",
       "      <th>4</th>\n",
       "      <td>67522</td>\n",
       "    </tr>\n",
       "  </tbody>\n",
       "</table>\n",
       "</div>"
      ],
      "text/plain": [
       "        hospital_beds\n",
       "region               \n",
       "1              202752\n",
       "2              179307\n",
       "3              178660\n",
       "4               67522"
      ]
     },
     "execution_count": 108,
     "metadata": {},
     "output_type": "execute_result"
    }
   ],
   "source": [
    "# Total no. of hostipal beds in each region\n",
    "g = df.groupby('region')\n",
    "beds_frame = g[['hospital_beds']].sum()\n",
    "beds_frame"
   ]
  },
  {
   "cell_type": "code",
   "execution_count": 214,
   "metadata": {},
   "outputs": [
    {
     "data": {
      "text/plain": [
       "CategoricalIndex([1, 2, 3, 4], categories=[1, 2, 3, 4], ordered=False, name='region', dtype='category')"
      ]
     },
     "execution_count": 214,
     "metadata": {},
     "output_type": "execute_result"
    }
   ],
   "source": [
    "beds_frame.index"
   ]
  },
  {
   "cell_type": "code",
   "execution_count": 115,
   "metadata": {},
   "outputs": [
    {
     "data": {
      "image/png": "[encoded data removed]",
      "text/plain": [
       "<Figure size 432x288 with 1 Axes>"
      ]
     },
     "metadata": {
      "needs_background": "light"
     },
     "output_type": "display_data"
    }
   ],
   "source": [
    "# Barplot\n",
    "fig, ax = plt.subplots()\n",
    "\n",
    "ax.bar(beds_frame.index, beds_frame.hospital_beds)\n",
    "\n",
    "ax.set_xlabel('Region')\n",
    "ax.set_ylabel('Total no. of Hospital beds')\n",
    "ax.set_title('Total hospital beds across different regions')\n",
    "\n",
    "x_ticks_labels =  ['Reg-' + str(i) for i in beds_frame.index]\n",
    "ax.set_xticks(beds_frame.index)\n",
    "ax.set_xticklabels(x_ticks_labels)\n",
    "plt.show()"
   ]
  },
  {
   "cell_type": "markdown",
   "metadata": {},
   "source": [
    "### Histogram"
   ]
  },
  {
   "cell_type": "code",
   "execution_count": 218,
   "metadata": {},
   "outputs": [
    {
     "data": {
      "image/png": "[encoded data removed]",
      "text/plain": [
       "<Figure size 432x288 with 1 Axes>"
      ]
     },
     "metadata": {
      "needs_background": "light"
     },
     "output_type": "display_data"
    }
   ],
   "source": [
    "fig, ax = plt.subplots()\n",
    "\n",
    "ax.hist(df.land_area,bins=50,facecolor='g', alpha=0.75)\n",
    "\n",
    "plt.show()"
   ]
  },
  {
   "cell_type": "code",
   "execution_count": 123,
   "metadata": {},
   "outputs": [
    {
     "data": {
      "text/plain": [
       "count       99.000000\n",
       "mean      2615.727273\n",
       "std       3045.826210\n",
       "min         47.000000\n",
       "25%       1408.000000\n",
       "50%       1951.000000\n",
       "75%       2890.500000\n",
       "max      27293.000000\n",
       "Name: land_area, dtype: float64"
      ]
     },
     "execution_count": 123,
     "metadata": {},
     "output_type": "execute_result"
    }
   ],
   "source": [
    "df.land_area.describe()"
   ]
  },
  {
   "cell_type": "code",
   "execution_count": 140,
   "metadata": {},
   "outputs": [
    {
     "data": {
      "image/png": "[encoded data removed]",
      "text/plain": [
       "<Figure size 432x288 with 1 Axes>"
      ]
     },
     "metadata": {
      "needs_background": "light"
     },
     "output_type": "display_data"
    }
   ],
   "source": [
    "# Histogram\n",
    "fig, ax = plt.subplots()\n",
    "\n",
    "ax.hist(df.land_area, bins=100, facecolor='g', edgecolor='white', alpha=0.75)\n",
    "\n",
    "ax.set_xlabel('Land Area')\n",
    "ax.set_ylabel('Frequency')\n",
    "ax.set_title('Histogram of Land Area')\n",
    "ax.set_xlim(40, 3000)\n",
    "plt.show()"
   ]
  },
  {
   "cell_type": "markdown",
   "metadata": {},
   "source": [
    "### Boxplot"
   ]
  },
  {
   "cell_type": "code",
   "execution_count": 156,
   "metadata": {},
   "outputs": [
    {
     "data": {
      "image/png": "[encoded data removed]",
      "text/plain": [
       "<Figure size 432x288 with 1 Axes>"
      ]
     },
     "metadata": {
      "needs_background": "light"
     },
     "output_type": "display_data"
    }
   ],
   "source": [
    "fig, ax = plt.subplots()\n",
    "\n",
    "\n",
    "ax.boxplot(df.land_area)\n",
    "plt.show()"
   ]
  },
  {
   "cell_type": "code",
   "execution_count": 158,
   "metadata": {},
   "outputs": [
    {
     "data": {
      "text/plain": [
       "27293"
      ]
     },
     "execution_count": 158,
     "metadata": {},
     "output_type": "execute_result"
    }
   ],
   "source": [
    "df.land_area.max()"
   ]
  },
  {
   "cell_type": "code",
   "execution_count": 164,
   "metadata": {},
   "outputs": [
    {
     "data": {
      "text/plain": [
       "9517.759999999927"
      ]
     },
     "execution_count": 164,
     "metadata": {},
     "output_type": "execute_result"
    }
   ],
   "source": [
    "np.percentile(df.land_area, q=99)"
   ]
  },
  {
   "cell_type": "code",
   "execution_count": 168,
   "metadata": {},
   "outputs": [
    {
     "data": {
      "text/html": [
       "<div>\n",
       "<style scoped>\n",
       "    .dataframe tbody tr th:only-of-type {\n",
       "        vertical-align: middle;\n",
       "    }\n",
       "\n",
       "    .dataframe tbody tr th {\n",
       "        vertical-align: top;\n",
       "    }\n",
       "\n",
       "    .dataframe thead th {\n",
       "        text-align: right;\n",
       "    }\n",
       "</style>\n",
       "<table border=\"1\" class=\"dataframe\">\n",
       "  <thead>\n",
       "    <tr style=\"text-align: right;\">\n",
       "      <th></th>\n",
       "      <th>land_area</th>\n",
       "      <th>percent_city</th>\n",
       "      <th>percent_senior</th>\n",
       "      <th>physicians</th>\n",
       "      <th>hospital_beds</th>\n",
       "      <th>graduates</th>\n",
       "      <th>work_force</th>\n",
       "      <th>income</th>\n",
       "      <th>region</th>\n",
       "      <th>crime_rate</th>\n",
       "    </tr>\n",
       "  </thead>\n",
       "  <tbody>\n",
       "    <tr>\n",
       "      <th>18</th>\n",
       "      <td>27293</td>\n",
       "      <td>25.3</td>\n",
       "      <td>12.3</td>\n",
       "      <td>2018</td>\n",
       "      <td>6323</td>\n",
       "      <td>57.4</td>\n",
       "      <td>510.6</td>\n",
       "      <td>7399</td>\n",
       "      <td>4</td>\n",
       "      <td>76.028331</td>\n",
       "    </tr>\n",
       "  </tbody>\n",
       "</table>\n",
       "</div>"
      ],
      "text/plain": [
       "    land_area  percent_city  percent_senior  physicians  hospital_beds  \\\n",
       "18      27293          25.3            12.3        2018           6323   \n",
       "\n",
       "    graduates  work_force  income region  crime_rate  \n",
       "18       57.4       510.6    7399      4   76.028331  "
      ]
     },
     "execution_count": 168,
     "metadata": {},
     "output_type": "execute_result"
    }
   ],
   "source": [
    "df[df.land_area == df.land_area.max()]"
   ]
  },
  {
   "cell_type": "code",
   "execution_count": 179,
   "metadata": {},
   "outputs": [
    {
     "data": {
      "image/png": "[encoded data removed]",
      "text/plain": [
       "<Figure size 432x288 with 1 Axes>"
      ]
     },
     "metadata": {
      "needs_background": "light"
     },
     "output_type": "display_data"
    }
   ],
   "source": [
    "# Boxplot excluding 1 outlier point\n",
    "\n",
    "fig, ax = plt.subplots()\n",
    "\n",
    "blue_diamond = dict(markerfacecolor='b', marker='D')\n",
    "\n",
    "land = df.drop([18])['land_area']\n",
    "\n",
    "ax.boxplot(land, vert=False, flierprops=blue_diamond)\n",
    "plt.show()"
   ]
  },
  {
   "cell_type": "code",
   "execution_count": 178,
   "metadata": {},
   "outputs": [
    {
     "data": {
      "text/plain": [
       "array([1406.  , 1907.  , 2802.75])"
      ]
     },
     "execution_count": 178,
     "metadata": {},
     "output_type": "execute_result"
    }
   ],
   "source": [
    "np.percentile(land, [25, 50, 75])"
   ]
  },
  {
   "cell_type": "code",
   "execution_count": 196,
   "metadata": {},
   "outputs": [],
   "source": [
    "df.drop([18], inplace=True) # remove that extreme outlier datapoint"
   ]
  },
  {
   "cell_type": "code",
   "execution_count": 213,
   "metadata": {},
   "outputs": [
    {
     "data": {
      "image/png": "[encoded data removed]",
      "text/plain": [
       "<Figure size 432x288 with 1 Axes>"
      ]
     },
     "metadata": {
      "needs_background": "light"
     },
     "output_type": "display_data"
    }
   ],
   "source": [
    "## Boxplot\n",
    "\n",
    "reg1_land = df[df.region == 1]['land_area']\n",
    "reg2_land = df[df.region == 2]['land_area']\n",
    "reg3_land = df[df.region == 3]['land_area']\n",
    "reg4_land = df[df.region == 4]['land_area']\n",
    "\n",
    "fig, ax = plt.subplots()\n",
    "\n",
    "boxplots = ax.boxplot([reg1_land, reg2_land, reg3_land, reg4_land], \n",
    "                      labels=['Region-1', 'Region-2', 'Region-3', 'Region-4'],\n",
    "                     medianprops = dict(linestyle='-', linewidth=2, color='blue'),\n",
    "                     patch_artist=True)\n",
    "\n",
    "box1 = boxplots['boxes'][0]\n",
    "box1.set_facecolor('pink')\n",
    "\n",
    "box2 = boxplots['boxes'][1]\n",
    "box2.set_facecolor('lightblue')\n",
    "\n",
    "box3 = boxplots['boxes'][2]\n",
    "box3.set_facecolor('lightgreen')\n",
    "\n",
    "box4 = boxplots['boxes'][3]\n",
    "box4.set_facecolor('cyan')\n",
    "\n",
    "ax.yaxis.grid(True)\n",
    "\n",
    "ax.set_title('Distribution of land area by region')\n",
    "ax.set_ylabel('Land Area')\n",
    "\n",
    "plt.show()"
   ]
  },
  {
   "cell_type": "code",
   "execution_count": null,
   "metadata": {},
   "outputs": [],
   "source": []
  }
 ],
 "metadata": {
  "kernelspec": {
   "display_name": "Python3_6",
   "language": "python",
   "name": "test_env_3"
  },
  "language_info": {
   "codemirror_mode": {
    "name": "ipython",
    "version": 3
   },
   "file_extension": ".py",
   "mimetype": "text/x-python",
   "name": "python",
   "nbconvert_exporter": "python",
   "pygments_lexer": "ipython3",
   "version": "3.6.10"
  }
 },
 "nbformat": 4,
 "nbformat_minor": 4
}
